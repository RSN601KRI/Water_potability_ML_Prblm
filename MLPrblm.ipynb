{
  "nbformat": 4,
  "nbformat_minor": 0,
  "metadata": {
    "colab": {
      "provenance": [],
      "authorship_tag": "ABX9TyOmj2pmut8FOKUkCunzT6RD",
      "include_colab_link": true
    },
    "kernelspec": {
      "name": "python3",
      "display_name": "Python 3"
    },
    "language_info": {
      "name": "python"
    }
  },
  "cells": [
    {
      "cell_type": "markdown",
      "metadata": {
        "id": "view-in-github",
        "colab_type": "text"
      },
      "source": [
        "<a href=\"https://colab.research.google.com/github/RSN601KRI/Water_potability_ML_Prblm/blob/main/MLPrblm.ipynb\" target=\"_parent\"><img src=\"https://colab.research.google.com/assets/colab-badge.svg\" alt=\"Open In Colab\"/></a>"
      ]
    },
    {
      "cell_type": "code",
      "source": [
        "import pandas as pd\n",
        "import numpy as np"
      ],
      "metadata": {
        "id": "4B14p0a0l4Cv"
      },
      "execution_count": 2,
      "outputs": []
    },
    {
      "cell_type": "code",
      "source": [
        "!pip install pandas numpy scikit-learn"
      ],
      "metadata": {
        "colab": {
          "base_uri": "https://localhost:8080/"
        },
        "id": "f5sYHflknfyS",
        "outputId": "99aff286-efe3-4006-95c3-ab2871a38f3e"
      },
      "execution_count": 8,
      "outputs": [
        {
          "output_type": "stream",
          "name": "stdout",
          "text": [
            "Requirement already satisfied: pandas in /usr/local/lib/python3.10/dist-packages (2.2.2)\n",
            "Requirement already satisfied: numpy in /usr/local/lib/python3.10/dist-packages (1.26.4)\n",
            "Requirement already satisfied: scikit-learn in /usr/local/lib/python3.10/dist-packages (1.5.2)\n",
            "Requirement already satisfied: python-dateutil>=2.8.2 in /usr/local/lib/python3.10/dist-packages (from pandas) (2.8.2)\n",
            "Requirement already satisfied: pytz>=2020.1 in /usr/local/lib/python3.10/dist-packages (from pandas) (2024.2)\n",
            "Requirement already satisfied: tzdata>=2022.7 in /usr/local/lib/python3.10/dist-packages (from pandas) (2024.2)\n",
            "Requirement already satisfied: scipy>=1.6.0 in /usr/local/lib/python3.10/dist-packages (from scikit-learn) (1.13.1)\n",
            "Requirement already satisfied: joblib>=1.2.0 in /usr/local/lib/python3.10/dist-packages (from scikit-learn) (1.4.2)\n",
            "Requirement already satisfied: threadpoolctl>=3.1.0 in /usr/local/lib/python3.10/dist-packages (from scikit-learn) (3.5.0)\n",
            "Requirement already satisfied: six>=1.5 in /usr/local/lib/python3.10/dist-packages (from python-dateutil>=2.8.2->pandas) (1.17.0)\n"
          ]
        }
      ]
    },
    {
      "cell_type": "code",
      "source": [
        "import pandas as pd\n",
        "\n",
        "# Load CSV files\n",
        "train_df = pd.read_csv(\"train.csv\")\n",
        "test_df = pd.read_csv(\"test.csv\")\n",
        "\n",
        "print(\"Train Dataset:\")\n",
        "print(train_df.head())\n",
        "\n",
        "print(\"\\nTest Dataset:\")\n",
        "print(test_df.head())"
      ],
      "metadata": {
        "colab": {
          "base_uri": "https://localhost:8080/"
        },
        "id": "yZ3HruDkni8p",
        "outputId": "8a6a9ed0-6c90-4ea2-b5e3-07182c210bd3"
      },
      "execution_count": 9,
      "outputs": [
        {
          "output_type": "stream",
          "name": "stdout",
          "text": [
            "Train Dataset:\n",
            "   Index                                                 ph  \\\n",
            "0      0  <p>😅The pH value observed is:  0.2644088544860...   \n",
            "1      1  <p>😇The solution's pH level is  0.012034498894...   \n",
            "2      2  <br>😀The pH reading measures 0.491167423175516...   \n",
            "3      3  <h1>😅The water sample's pH level is  0.4865531...   \n",
            "4      4  <p>😍The observed pH value of  0.07548804288855...   \n",
            "\n",
            "                                            Hardness  \\\n",
            "0  <br>😒With a hardness level of  2.6735383052025...   \n",
            "1  <h1>😀The water hardness is measured at  2.6303...   \n",
            "2  <h2>😅With a hardness level of  1.2213782428674...   \n",
            "3  <h2>😀With a hardness level of  1.2591335755542...   \n",
            "4  <p>😁With a hardness level of  1.65681755735377...   \n",
            "\n",
            "                                              Solids  Chloramines   Sulfate  \\\n",
            "0  <br>😅The water sample exhibits a total solids ...     1.431972  1.303685   \n",
            "1  <br>😒The total solids content in the sample is...     0.911372  1.181754   \n",
            "2  <h1>😍The water sample exhibits a total solids ...     1.506492  1.700871   \n",
            "3  <h1>😅The total solids content in the sample is...     2.658852  3.035266   \n",
            "4  <p>😍The total solids content in the sample is ...     2.169616  1.520531   \n",
            "\n",
            "   Conductivity  Organic_carbon  Trihalomethanes  \\\n",
            "0      1.563001        0.697062         2.010126   \n",
            "1      1.741640        0.896108         1.807786   \n",
            "2      2.322337        1.035440         1.548768   \n",
            "3      2.409255        1.185713         1.232375   \n",
            "4      1.990604        1.237182         1.589307   \n",
            "\n",
            "                                           Turbidity  Potability  \n",
            "0  <h1>😀Observing a turbidity value of 1.60887258...    1.252351  \n",
            "1  <br>😁The water sample exhibits a turbidity rea...    1.124565  \n",
            "2  <p>😇Observing a turbidity value of 1.008907465...    0.525886  \n",
            "3  <p>😇The water sample exhibits a turbidity read...    0.715288  \n",
            "4  <h1>😒The water sample exhibits a turbidity rea...    0.890722  \n",
            "\n",
            "Test Dataset:\n",
            "   Index                                                 ph  \\\n",
            "0  10000  <br>😒The observed pH value of  0.4583260930518...   \n",
            "1  10001  <br>😀The pH value observed is:  0.006163832801...   \n",
            "2  10002  <h2>😀The pH reading measures 0.682188913921691...   \n",
            "3  10003  <p>😀The observed pH value of  0.56282397372454...   \n",
            "4  10004  <h1>😇The pH reading measures 0.336142283595807...   \n",
            "\n",
            "                                            Hardness  \\\n",
            "0  <h1>😁The observed water hardness of  1.7903445...   \n",
            "1  <p>😁The observed water hardness of  2.37971669...   \n",
            "2  <h2>😇The observed water hardness of  1.4080275...   \n",
            "3  <br>😀The observed water hardness of  1.8369703...   \n",
            "4  <h1>😀The water hardness is measured at  1.5104...   \n",
            "\n",
            "                                              Solids  Chloramines   Sulfate  \\\n",
            "0  <p>😁Observing a solids concentration of  1.573...     1.540880  1.659576   \n",
            "1  <h1>😒The total solids content in the sample is...     1.225821  1.320635   \n",
            "2  <p>😍The total solids content in the sample is ...     2.430112  1.178618   \n",
            "3  <h1>😍The total solids content in the sample is...     1.910825  2.731592   \n",
            "4  <br>😀Observing a solids concentration of  2.33...     1.940168  1.269851   \n",
            "\n",
            "   Conductivity  Organic_carbon  Trihalomethanes  \\\n",
            "0      2.156778        1.665096         2.105437   \n",
            "1      2.251759        1.333259         1.480757   \n",
            "2      1.614353        0.890702         1.824291   \n",
            "3      1.626107        0.711949         2.598104   \n",
            "4      1.832447        0.947763         1.052021   \n",
            "\n",
            "                                           Turbidity  \n",
            "0  <br>😅The turbidity of the water is measured at...  \n",
            "1  <p>😅The water sample exhibits a turbidity read...  \n",
            "2  <br>😀Observing a turbidity value of 1.11871445...  \n",
            "3  <br>😍The turbidity of the water is measured at...  \n",
            "4  <h1>😁The water sample exhibits a turbidity rea...  \n"
          ]
        }
      ]
    },
    {
      "cell_type": "code",
      "source": [
        "import re\n",
        "import numpy as np\n",
        "\n",
        "# Sample test cases\n",
        "sample_values = [\n",
        "    \"<h1>😍The water hardness is measured at  1.3005608204573031  ...</h1>\",\n",
        "    \"The pH value is <b>7.2</b>\",\n",
        "    \"Invalid text with 💧\",\n",
        "    \"Hardness level: -145.67 detected\"\n",
        "]\n",
        "\n",
        "# Cleaning function\n",
        "def extract_numeric_value(text):\n",
        "    clean_text = re.sub(r\"<[^>]*>|[^\\d\\.\\-]\", \"\", str(text))  # Remove HTML and non-numeric characters\n",
        "    match = re.search(r\"(-?\\d+\\.?\\d*)\", clean_text)  # Match numeric values\n",
        "    return float(match.group(1)) if match else np.nan\n",
        "\n",
        "# Apply cleaning to test cases\n",
        "for val in sample_values:\n",
        "    print(f\"Original: {val} --> Cleaned: {extract_numeric_value(val)}\")"
      ],
      "metadata": {
        "colab": {
          "base_uri": "https://localhost:8080/"
        },
        "id": "1lZiG9r-ntY-",
        "outputId": "71d2b2dc-d963-46ac-e17c-c9ddda1c74d1"
      },
      "execution_count": 10,
      "outputs": [
        {
          "output_type": "stream",
          "name": "stdout",
          "text": [
            "Original: <h1>😍The water hardness is measured at  1.3005608204573031  ...</h1> --> Cleaned: 1.3005608204573031\n",
            "Original: The pH value is <b>7.2</b> --> Cleaned: 7.2\n",
            "Original: Invalid text with 💧 --> Cleaned: nan\n",
            "Original: Hardness level: -145.67 detected --> Cleaned: -145.67\n"
          ]
        }
      ]
    },
    {
      "cell_type": "code",
      "source": [
        "train_df[\"ph\"] = train_df[\"ph\"].apply(extract_numeric_value)\n",
        "print(train_df[\"ph\"].head())\n",
        "\n",
        "# Check for any invalid (NaN) values\n",
        "print(\"\\nNumber of NaN values in 'ph':\", train_df[\"ph\"].isna().sum())"
      ],
      "metadata": {
        "colab": {
          "base_uri": "https://localhost:8080/"
        },
        "id": "v-4WO3qQnxp_",
        "outputId": "61c1991e-0650-4fc3-c19b-bd73a57b7cef"
      },
      "execution_count": 11,
      "outputs": [
        {
          "output_type": "stream",
          "name": "stdout",
          "text": [
            "0    0.264409\n",
            "1    0.012034\n",
            "2    0.491167\n",
            "3    0.486553\n",
            "4    0.075488\n",
            "Name: ph, dtype: float64\n",
            "\n",
            "Number of NaN values in 'ph': 0\n"
          ]
        }
      ]
    },
    {
      "cell_type": "code",
      "execution_count": 14,
      "metadata": {
        "id": "5qZd_pQnlQ2x"
      },
      "outputs": [],
      "source": [
        "import re\n",
        "import numpy as np\n",
        "\n",
        "# Function to extract numeric values from strings\n",
        "def extract_numeric(text):\n",
        "    match = re.search(r\"(\\d+\\.?\\d*)\", str(text))  # Extract numeric values with decimals\n",
        "    if match:\n",
        "        return float(match.group(1))  # Return as float\n",
        "    else:\n",
        "        return np.nan  # Return NaN if no match\n",
        "\n",
        "# Apply extraction to all numeric columns in train and test data\n",
        "for col in train_df.columns:\n",
        "    train_df[col] = train_df[col].apply(extract_numeric)\n",
        "\n",
        "for col in test_df.columns:\n",
        "    test_df[col] = test_df[col].apply(extract_numeric)"
      ]
    },
    {
      "cell_type": "code",
      "source": [
        "# Fill NaN values with median for train data\n",
        "numeric_features = train_df.select_dtypes(include=np.number).columns.tolist()\n",
        "train_df[numeric_features] = train_df[numeric_features].fillna(train_df[numeric_features].median())\n",
        "\n",
        "# Fill NaN values for test data (excluding Potability)\n",
        "numeric_features_test = [col for col in numeric_features if col in test_df.columns]\n",
        "test_df[numeric_features_test] = test_df[numeric_features_test].fillna(train_df[numeric_features_test].median())"
      ],
      "metadata": {
        "id": "74vca6mxlubX"
      },
      "execution_count": 16,
      "outputs": []
    },
    {
      "cell_type": "code",
      "source": [
        "# Separate features (X) and target (y)\n",
        "X = train_df.drop(columns=[\"Potability\", \"Index\"], errors=\"ignore\")\n",
        "y = train_df[\"Potability\"]\n",
        "\n",
        "# Clean test data\n",
        "X_test = test_df.drop(columns=[\"Index\"], errors=\"ignore\")"
      ],
      "metadata": {
        "id": "AYlaP5Mfo0FY"
      },
      "execution_count": 17,
      "outputs": []
    },
    {
      "cell_type": "code",
      "source": [
        "# Step 5: Ensure the target variable is binary (0 or 1)\n",
        "# Round or threshold continuous values to 0 and 1\n",
        "train_df[\"Potability\"] = train_df[\"Potability\"].apply(lambda x: 1 if x >= 0.5 else 0)\n",
        "\n",
        "# Step 6: Prepare features and target\n",
        "X = train_df.drop(columns=[\"Potability\", \"Index\"], errors=\"ignore\")\n",
        "y = train_df[\"Potability\"]\n",
        "\n",
        "# Prepare test data\n",
        "X_test = test_df.drop(columns=[\"Index\"], errors=\"ignore\")\n",
        "\n",
        "# Step 7: Train-test split\n",
        "X_train, X_val, y_train, y_val = train_test_split(X, y, test_size=0.2, random_state=42)\n",
        "\n",
        "# Step 8: Train RandomForest model\n",
        "model = RandomForestClassifier(n_estimators=100, random_state=42)\n",
        "model.fit(X_train, y_train)\n",
        "\n",
        "# Step 9: Validate model\n",
        "y_val_pred = model.predict(X_val)\n",
        "accuracy = accuracy_score(y_val, y_val_pred)\n",
        "print(f\"Validation Accuracy: {accuracy:.4f}\")\n",
        "\n",
        "# Step 10: Predict on test data\n",
        "test_predictions = model.predict(X_test)\n",
        "\n",
        "# Step 11: Prepare submission file\n",
        "submission = pd.DataFrame({\n",
        "    \"Index\": test_df[\"Index\"],\n",
        "    \"Potability\": test_predictions\n",
        "})\n",
        "\n",
        "# Save submission to CSV\n",
        "submission.to_csv(\"submission.csv\", index=False)\n",
        "print(\"Submission file saved as submission.csv\")"
      ],
      "metadata": {
        "colab": {
          "base_uri": "https://localhost:8080/"
        },
        "id": "OjRuzFp8pABk",
        "outputId": "54b8d898-0e6c-45c5-a631-c64bb0b38b6c"
      },
      "execution_count": 20,
      "outputs": [
        {
          "output_type": "stream",
          "name": "stdout",
          "text": [
            "Validation Accuracy: 0.9865\n",
            "Submission file saved as submission.csv\n"
          ]
        }
      ]
    },
    {
      "cell_type": "code",
      "source": [],
      "metadata": {
        "id": "rlcdNDM7pCvl"
      },
      "execution_count": null,
      "outputs": []
    }
  ]
}